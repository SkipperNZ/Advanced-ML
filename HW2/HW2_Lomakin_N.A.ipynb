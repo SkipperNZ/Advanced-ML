{
 "cells": [
  {
   "cell_type": "markdown",
   "metadata": {},
   "source": [
    "# Домашнее задание 2\n",
    "\n",
    "**Ломакин Н.А MADE-ML-21**"
   ]
  },
  {
   "cell_type": "markdown",
   "metadata": {},
   "source": [
    "В спортивном “Что? Где? Когда?” соревнующиеся команды отвечают на одни и те же вопросы. После минуты обсуждения команды записывают и сдают свои ответы на карточках; побеждает тот, кто ответил на большее число вопросов. Турнир обычно состоит из нескольких десятков вопросов (обычно 36 или 45, иногда 60, больше редко). Часто бывают синхронные турниры, когда на одни и те же вопросы отвечают команды на сотнях игровых площадок по всему миру, т.е. в одном турнире могут играть сотни, а то и тысячи команд. Соответственно, нам нужно:\n",
    "\n",
    "* построить рейтинг-лист, который способен нетривиально предсказывать результаты будущих турниров;\n",
    "* при этом, поскольку ЧГК — это хобби, и контрактов тут никаких нет, игроки постоянно переходят из команды в команду, сильный игрок может на один турнир сесть поиграть за другую команду и т.д.; поэтому единицей рейтинг-листа должна быть не команда, а отдельный игрок;\n",
    "* а что сильно упрощает задачу и переводит её в область домашних заданий на EM-алгоритм — это характер данных: начиная с какого-то момента, в базу результатов начали вносить все повопросные результаты команд, т.е. в данных будут записи вида “какая команда на какой вопрос правильно ответила”."
   ]
  },
  {
   "cell_type": "markdown",
   "metadata": {},
   "source": [
    "## Пункт 1\n",
    "Прочитайте и проанализируйте данные, выберите турниры, в которых есть данные о составах команд и повопросных результатах (поле mask в results.pkl). Для унификации предлагаю:\n",
    "* взять в тренировочный набор турниры с dateStart из 2019 года; \n",
    "* в тестовый — турниры с dateStart из 2020 года."
   ]
  },
  {
   "cell_type": "code",
   "execution_count": 38,
   "metadata": {},
   "outputs": [],
   "source": [
    "%matplotlib inline\n",
    "import numpy as np\n",
    "import json, pickle\n",
    "from datetime import timedelta, datetime\n",
    "import dateutil.parser\n",
    "import matplotlib.pyplot as plt\n",
    "import pandas as pd\n",
    "from scipy.sparse import lil_matrix, vstack\n",
    "from sklearn.linear_model import LogisticRegression\n",
    "import math\n",
    "from scipy.stats import spearmanr, kendalltau\n",
    "from collections import defaultdict, Counter\n",
    "from scipy.special import expit, logit"
   ]
  },
  {
   "cell_type": "code",
   "execution_count": 2,
   "metadata": {},
   "outputs": [],
   "source": [
    "tournaments = pickle.load(open('tournaments.pkl', 'rb'))\n",
    "results = pickle.load(open('results.pkl', 'rb'))\n",
    "players = pickle.load(open('players.pkl', 'rb'))"
   ]
  },
  {
   "cell_type": "markdown",
   "metadata": {},
   "source": [
    "dict results имеет следующую структуру внутри себя:\n",
    "\n",
    "```\n",
    "0: team\n",
    "\n",
    "1: mask\n",
    "\n",
    "2: current\n",
    "\n",
    "3: questionsTotal\n",
    "\n",
    "4: synchRequest\n",
    "\n",
    "5: position\n",
    "\n",
    "6: controversials\n",
    "\n",
    "7: flags\n",
    "\n",
    "8: teamMembers\n",
    "```\n",
    "\n"
   ]
  },
  {
   "cell_type": "markdown",
   "metadata": {},
   "source": [
    "players имеет структуру:\n",
    "\n",
    "```id\tname\tpatronymic\tsurname```"
   ]
  },
  {
   "cell_type": "markdown",
   "metadata": {},
   "source": [
    "tournaments имеет структуру:\n",
    "\n",
    "```id\tname\tdateStart\tdateEnd\ttype\tseason\torgcommittee\tsynchData\tquestionQty```"
   ]
  },
  {
   "cell_type": "code",
   "execution_count": 3,
   "metadata": {},
   "outputs": [],
   "source": [
    "date_2019_begin = datetime.strptime(\"2019-01-01\", \"%Y-%m-%d\")\n",
    "date_2020_begin = datetime.strptime(\"2020-01-01\", \"%Y-%m-%d\")\n",
    "\n",
    "tournaments_2019 = []\n",
    "tournaments_2020 = []\n",
    "\n",
    "for key in tournaments.keys():\n",
    "    t_dateStart = datetime.fromisoformat(tournaments[key][\"dateStart\"]).replace(\n",
    "        tzinfo=None\n",
    "    )\n",
    "    # скипаем все даты до 2019 года\n",
    "    if t_dateStart >= date_2019_begin:\n",
    "        # скипаем если в резалте нет команд\n",
    "        if not results[key]:\n",
    "            continue\n",
    "\n",
    "        # не будем учитывать турниры, в которых у команд разные маски ответов.\n",
    "        accamulate_question_len = set()\n",
    "        for team in results[key]:\n",
    "            if team.get(\"mask\") is not None:\n",
    "                accamulate_question_len.add(len(team[\"mask\"]))\n",
    "        if len(accamulate_question_len) > 1:\n",
    "            continue\n",
    "\n",
    "        # теперь отформатируем данные для турниров\n",
    "        tournament = dict()\n",
    "        tournament[\"id\"] = tournaments[key][\"id\"]\n",
    "        tournament[\"teams\"] = []\n",
    "\n",
    "        for team in results[key]:\n",
    "            # скипнем команды с непонятными символами в ответах, или с пустыми ответами\n",
    "            if team.get(\"mask\") is None or team.get(\"mask\").replace(\"1\", \"\").replace(\n",
    "                \"0\", \"\"\n",
    "            ):\n",
    "                continue\n",
    "\n",
    "            cell_team = dict()\n",
    "            cell_team[\"id\"] = team[\"team\"][\"id\"]\n",
    "            cell_team[\"members\"] = []\n",
    "            cell_team[\"mask\"] = team[\"mask\"]\n",
    "\n",
    "            for member in team[\"teamMembers\"]:\n",
    "                cell_team[\"members\"].append(member[\"player\"][\"id\"])\n",
    "\n",
    "            tournament[\"teams\"].append(cell_team)\n",
    "\n",
    "        if not tournament[\"teams\"]:\n",
    "            continue\n",
    "\n",
    "        if t_dateStart < date_2020_begin:\n",
    "            tournaments_2019.append(tournament)\n",
    "        else:\n",
    "            tournaments_2020.append(tournament)"
   ]
  },
  {
   "cell_type": "markdown",
   "metadata": {},
   "source": [
    "Данные более менее обработаны, теперь можно глянуть на статистики:"
   ]
  },
  {
   "cell_type": "code",
   "execution_count": 4,
   "metadata": {},
   "outputs": [],
   "source": [
    "members = set()\n",
    "answer_count = defaultdict(int)\n",
    "right_answer_count = defaultdict(int)\n",
    "\n",
    "\n",
    "for tournament in tournaments_2019:\n",
    "    tournament_answers = []\n",
    "    for team in tournament['teams']:\n",
    "        for member in team['members']:\n",
    "            answer_count[member] += len(team['mask'])\n",
    "            right_answer_count[member] = sum(list(map(int, team['mask'])))\n",
    "            members.add(member)\n"
   ]
  },
  {
   "cell_type": "code",
   "execution_count": 5,
   "metadata": {},
   "outputs": [
    {
     "data": {
      "image/png": "[encoded data removed]",
      "text/plain": [
       "<Figure size 432x288 with 1 Axes>"
      ]
     },
     "metadata": {
      "needs_background": "light"
     },
     "output_type": "display_data"
    }
   ],
   "source": [
    "plt.hist(answer_count.values(), bins=220);\n",
    "plt.title('Статистика по отвеченым в целом вопросам одним игроком')\n",
    "plt.xlim(xmin=0.0, xmax = 600)\n",
    "#plt.ylim(ymin=0.0, ymax = 80000)\n",
    "plt.show();"
   ]
  },
  {
   "cell_type": "code",
   "execution_count": 6,
   "metadata": {},
   "outputs": [
    {
     "data": {
      "image/png": "[encoded data removed]",
      "text/plain": [
       "<Figure size 432x288 with 1 Axes>"
      ]
     },
     "metadata": {
      "needs_background": "light"
     },
     "output_type": "display_data"
    }
   ],
   "source": [
    "plt.hist(right_answer_count.values(), bins=220);\n",
    "plt.xlim(xmin=0.0, xmax = 75)\n",
    "plt.title('Статистика по правильно отвеченым вопросам одним игроком ')\n",
    "plt.show();"
   ]
  },
  {
   "cell_type": "code",
   "execution_count": 7,
   "metadata": {
    "scrolled": true
   },
   "outputs": [
    {
     "data": {
      "text/plain": [
       "(604, 156)"
      ]
     },
     "execution_count": 7,
     "metadata": {},
     "output_type": "execute_result"
    }
   ],
   "source": [
    "len(tournaments_2019), len(tournaments_2020)"
   ]
  },
  {
   "cell_type": "code",
   "execution_count": 8,
   "metadata": {},
   "outputs": [
    {
     "data": {
      "text/plain": [
       "55151"
      ]
     },
     "execution_count": 8,
     "metadata": {},
     "output_type": "execute_result"
    }
   ],
   "source": [
    "len(answer_count)"
   ]
  },
  {
   "cell_type": "markdown",
   "metadata": {},
   "source": [
    "## Пункт 2\n",
    "Постройте baseline-модель на основе линейной или логистической регрессии, которая будет обучать рейтинг-лист игроков. Замечания и подсказки:\n",
    "* повопросные результаты — это фактически результаты броска монетки, и их предсказание скорее всего имеет отношение к бинарной классификации;\n",
    "* в разных турнирах вопросы совсем разного уровня сложности, поэтому модель должна это учитывать; скорее всего, модель должна будет явно обучать не только силу каждого игрока, но и сложность каждого вопроса;\n",
    "* для baseline-модели можно забыть о командах и считать, что повопросные результаты команды просто относятся к каждому из её игроков."
   ]
  },
  {
   "cell_type": "markdown",
   "metadata": {},
   "source": [
    "Всего i шгроков, \\\n",
    "$S_i$ - cила  $i-ого$  игрока \\\n",
    "$q_j$ - сложность $о-ого$  вопроса \\\n",
    "$\\mu$ - глобальное среднее  \n",
    "$p(x | s_{i},q_{j})=\\sigma(s_i-q_j + \\mu)$ - вероятность ответа i-ого игрока на j-тый вопрос \n",
    "\n",
    "Получается у нас модель логистической регрессии с разреженой матрицей признаков"
   ]
  },
  {
   "cell_type": "code",
   "execution_count": 9,
   "metadata": {},
   "outputs": [],
   "source": [
    "questions_count = 0\n",
    "\n",
    "for tournament in tournaments_2019:\n",
    "    questions_count += len(tournament['teams'][0]['mask'])\n",
    "    "
   ]
  },
  {
   "cell_type": "code",
   "execution_count": 10,
   "metadata": {},
   "outputs": [],
   "source": [
    "questions_count = 0\n",
    "\n",
    "for tournament in tournaments_2019:\n",
    "    questions_count += len(tournament['teams'][0]['mask'])\n",
    "    \n",
    "cols = len(members) + questions_count\n",
    "\n",
    "rows = 0\n",
    "for tournament in tournaments_2019:\n",
    "    for team in tournament['teams']:\n",
    "        rows += len(team['members'])*len(team['mask'])\n",
    "\n",
    "id_idx_dict = {id : idx for idx, id in enumerate(sorted(list(members)))}"
   ]
  },
  {
   "cell_type": "code",
   "execution_count": 11,
   "metadata": {},
   "outputs": [],
   "source": [
    "# player_id2number"
   ]
  },
  {
   "cell_type": "code",
   "execution_count": 12,
   "metadata": {},
   "outputs": [],
   "source": [
    "X = lil_matrix((rows, cols), dtype=np.int8)\n",
    "y = np.zeros(rows)"
   ]
  },
  {
   "cell_type": "code",
   "execution_count": 13,
   "metadata": {},
   "outputs": [],
   "source": [
    "idx_shift = len(members)\n",
    "row_number = 0\n",
    "\n",
    "for tournament in tournaments_2019:\n",
    "    for team in tournament['teams']:\n",
    "        for i in range(len(team['mask'])):\n",
    "            y_ans = int(team['mask'][i])\n",
    "            question_idx = idx_shift + i\n",
    "            for player_id in team['members']:\n",
    "                X[row_number, id_idx_dict[player_id]] = 1\n",
    "                X[row_number, question_idx] = -1\n",
    "                y[row_number] = y_ans\n",
    "                row_number += 1\n",
    "    idx_shift += len(tournament['teams'][0]['mask'])"
   ]
  },
  {
   "cell_type": "code",
   "execution_count": 14,
   "metadata": {},
   "outputs": [],
   "source": [
    "lr = LogisticRegression(solver='saga', C=1)\n",
    "lr.fit(X, y);"
   ]
  },
  {
   "cell_type": "code",
   "execution_count": 15,
   "metadata": {},
   "outputs": [],
   "source": [
    "\n",
    "# Получаем \"силу\" игроков и сложность вопросов\n",
    "S, q = lr.coef_[0][:len(members)], lr.coef_[0][len(members):] - lr.intercept_"
   ]
  },
  {
   "cell_type": "code",
   "execution_count": 16,
   "metadata": {},
   "outputs": [
    {
     "data": {
      "image/png": "[encoded data removed]",
      "text/plain": [
       "<Figure size 432x288 with 1 Axes>"
      ]
     },
     "metadata": {
      "needs_background": "light"
     },
     "output_type": "display_data"
    }
   ],
   "source": [
    "plt.hist(S, bins=60);\n",
    "plt.title('силы игроков');"
   ]
  },
  {
   "cell_type": "code",
   "execution_count": 17,
   "metadata": {},
   "outputs": [
    {
     "data": {
      "image/png": "[encoded data removed]",
      "text/plain": [
       "<Figure size 432x288 with 1 Axes>"
      ]
     },
     "metadata": {
      "needs_background": "light"
     },
     "output_type": "display_data"
    }
   ],
   "source": [
    "plt.title('сложности вопросов');\n",
    "plt.hist(q, bins=60);"
   ]
  },
  {
   "cell_type": "markdown",
   "metadata": {},
   "source": [
    "По гистограммам, эти распределения походи на нормальные. Так теперь и будем считать."
   ]
  },
  {
   "cell_type": "markdown",
   "metadata": {},
   "source": [
    "## Пункт 3"
   ]
  },
  {
   "cell_type": "markdown",
   "metadata": {},
   "source": [
    "Качество рейтинг-системы оценивается качеством предсказаний результатов турниров. Но сами повопросные результаты наши модели предсказывать вряд ли смогут, ведь неизвестно, насколько сложными окажутся вопросы в будущих турнирах; да и не нужны эти предсказания сами по себе. Поэтому:\n",
    "* предложите способ предсказать результаты нового турнира с известными составами, но неизвестными вопросами, в виде ранжирования команд;\n",
    "* в качестве метрики качества на тестовом наборе давайте считать ранговые корреляции Спирмена и Кендалла (их можно взять в пакете scipy) между реальным ранжированием в результатах турнира и предсказанным моделью, усреднённые по тестовому множеству турниров.\n",
    "\n",
    "(Для самопроверки: у меня средняя корреляция Спирмена на тестовом множестве 2020 года во всех моделях, включая baselines, получалась порядка 0.7-0.8, а корреляция Кендалла — порядка 0.5-0.6. Если у вас корреляции вышли за 0.9 или, наоборот, упали ниже 0.3, скорее всего где-то баг.)\n",
    "\n",
    "---"
   ]
  },
  {
   "cell_type": "markdown",
   "metadata": {},
   "source": [
    "Итак, исходя из условий мы знаем силы игроков ($S_i$) и при этом не знаем насколько сложные вопросы на которые они отвечают. \\\n",
    "В этом случае вероятность правильного ответа - мат. ожидание по распределению сложности вопросов:\n",
    "$$\n",
    "p_i = \\mathbb{E}_{q}[p_{ij}] = \\int \\sigma(s_{i} - q)p(q)dq\n",
    "$$\n",
    "\n",
    "Из нашего предположения сложность вопросов имеет нормальное распределение с дисперсией $\\sigma^2_{q}$ и среднем $\\mu_{q}$. При вычислении интеграла приближенно заменяем сигмоиду пробитом и получаем такую фурмулу:\n",
    "$$\n",
    "p_{i} \\approx \n",
    "\\sigma \\left (\n",
    "\\frac {s_{i} - \\mu_{q}}\n",
    "{\\sqrt{1 + \\frac{\\pi}{8} \\sigma^{2}_{q}}}\n",
    "\\right )\n",
    "$$\n",
    "\n",
    "В случае, если же игрок не играл в 2019 году и мы не знаем его силу, то будем считать что этот игрок средний, и его средние параметры так же взяты из нормального распределения, график которого строили в предыдущем пункте. \n",
    "\n",
    "Вероятность того что вся команда ответила правильно считаем вот так вот:\n",
    "$$\n",
    "p_{c} = 1 - \\prod (1 - p_{i})\n",
    "$$\n",
    "\n",
    "\n",
    "Напишем функцию для расчета метирик качества (Спирмена и Кендалла) так как будем использовать их и в следующих шагах."
   ]
  },
  {
   "cell_type": "code",
   "execution_count": 18,
   "metadata": {},
   "outputs": [],
   "source": [
    "def get_correlations(S, q):\n",
    "    p_p = {}\n",
    "    spearman = []\n",
    "    kendall = []\n",
    "    \n",
    "    for id in sorted(list(members)):\n",
    "        p_p[id] = expit((S[id_idx_dict[id]] - q.mean()) / math.sqrt(1 + math.pi / 8 * q.var()))\n",
    "\n",
    "    p_p_default = expit((S.mean() - q.mean()) / math.sqrt(1 + math.pi / 8 * (S.var() + q.var())))\n",
    "\n",
    "    \n",
    "    for tournament in tournaments_2020:\n",
    "        result = results[tournament['id']]\n",
    "        \n",
    "        if len(result) <= 1:\n",
    "            continue\n",
    "            \n",
    "        strength_from_result = []\n",
    "        strength_predicted = []\n",
    "        \n",
    "        for team in result:\n",
    "            strength_from_result.append(team['questionsTotal'])\n",
    "            p_ids = [p['player']['id'] for p in team['teamMembers']]\n",
    "            p = np.asarray([p_p.get(idx, p_p_default) for idx in p_ids])\n",
    "            strength_predicted.append(1 - (1 - p).prod())\n",
    "            \n",
    "        kendall.append(kendalltau(strength_from_result, strength_predicted).correlation)\n",
    "        spearman.append(spearmanr(strength_from_result, strength_predicted).correlation)\n",
    "        \n",
    "    return np.mean(kendall), np.mean(spearman)\n"
   ]
  },
  {
   "cell_type": "code",
   "execution_count": 19,
   "metadata": {},
   "outputs": [
    {
     "name": "stdout",
     "output_type": "stream",
     "text": [
      "Корреляция Спирмена:  0.7400977466465982\n",
      "Корреляция Кендалла:  0.5840406394216385\n"
     ]
    }
   ],
   "source": [
    "kendall, spearman = get_correlations(S, q)\n",
    "\n",
    "print('Корреляция Спирмена: ', spearman)\n",
    "print('Корреляция Кендалла: ', kendall)"
   ]
  },
  {
   "cell_type": "markdown",
   "metadata": {},
   "source": [
    "Полученые корреляции проходят условия сампороверки из условия задачки ^_^\n",
    "\n",
    "---"
   ]
  },
  {
   "cell_type": "markdown",
   "metadata": {},
   "source": [
    "## Пункт 4"
   ]
  },
  {
   "cell_type": "markdown",
   "metadata": {},
   "source": [
    "Теперь главное: ЧГК — это всё-таки командная игра. Поэтому:\n",
    "\n",
    "* предложите способ учитывать то, что на вопрос отвечают сразу несколько игроков; скорее всего, понадобятся скрытые переменные; не стесняйтесь делать упрощающие предположения, но теперь переменные “игрок X ответил на вопрос Y” при условии данных должны стать зависимыми для игроков одной и той же команды;\n",
    "* разработайте EM-схему для обучения этой модели, реализуйте её в коде;\n",
    "* обучите несколько итераций, убедитесь, что целевые метрики со временем растут (скорее всего, ненамного, но расти должны), выберите лучшую модель, используя целевые метрики.\n",
    "\n"
   ]
  },
  {
   "cell_type": "markdown",
   "metadata": {},
   "source": [
    "В базовой модели бы предпологали что ответ команды относится ко всем участникам команды.\n",
    "Но на самом деле мы не знаем какой игрок (или игроки) ответили верно.\n",
    "Всё что мы можем предположить, это что  если команда ответила неверно, то никто из команды не ответил верно. \\\n",
    "И сейчас мы возьем скрытую переменную $z_{ij}$ как игрок i ответил на вопрос j.\\\n",
    "    Так же предполагаем, что если официально комманда не ответила на вопрос правильно, то в комманде никто не знал верного ответа и если комманда официально отвечает правильно, то хотя бы один игрок знал верный ответ. \\ \n",
    "    В качестве параметров, как и в предыдущем пункте так же \"сила игрока\" и \"сложность вопроса\", обазначим их как $\\theta_{n}$ \n",
    "$$\n",
    "p(z_{ij} | s_{i}, q_{j}) \\sim \n",
    "\\sigma(s_{i} + q_{j} + \\mu)\n",
    "$$\n",
    "\n",
    "Из нашего предположения, что для ответа команды нужен хотя бы 1 ответ от игрока\n",
    "$$\n",
    "p(y|\\theta_{n})=1-\\prod_{i}(1-p(z_{ij}|\\theta_{n})\n",
    "$$\n",
    "\n",
    "По теореме Байеса: \n",
    "$$\n",
    "p(z_{ij}|y,\\theta_{n})  =\n",
    "\\begin{cases} \n",
    "0, &\\text{если y = 0} \\\\\n",
    "\\frac{p(z_{ij}|\\theta_n)}{1-\\prod_i(1-p(z_{ij}|\\theta_n)}, &\\text{если y = 1}\n",
    "\\end{cases}\n",
    "$$\n",
    "\n",
    "Мат. ожидание E - шага:\n",
    "$$\n",
    "\\mathbb{E}[\\log p(y, z|\\theta)|y,\\theta_{n}] =\n",
    "\\sum p(z|y,\\theta_{n}) \\log p(y, z|\\theta) + (1 - p(z|y, \\theta_{n})) \\log(1 - p(y, z|\\theta))\n",
    "$$\n",
    "\n",
    "M-шаг \\\n",
    "максимизация правдоподобия. Обучение модели на полученных с E-шага вероятностях \n",
    "\n",
    "Тут есть проблема, так как логистическая регрессия в пакете должна получать бинарные ответы, то для того что бы использовать её на M-шаге продублируем строки матрицы признаков, возьмем 0 и 1 в правой части, и возьмем 2 значения весов: $p(z_{ij}|y, \\theta_{n})$ и  $1 - p(z_{ij}|y, \\theta_{n})$ и уже так будем учить нашу модель.\n"
   ]
  },
  {
   "cell_type": "code",
   "execution_count": 20,
   "metadata": {},
   "outputs": [],
   "source": [
    "X_em = vstack([X, X], format='lil', dtype=np.int8)\n",
    "y_em = np.array([1] * X.shape[0] + [0] * X.shape[0])"
   ]
  },
  {
   "cell_type": "code",
   "execution_count": 22,
   "metadata": {},
   "outputs": [],
   "source": [
    "def weights_update(lr):\n",
    "    preds = lr.predict_proba(X)\n",
    "    weight = np.zeros(rows * 2)\n",
    "    num_r = 0\n",
    "    \n",
    "    for  tournament in tournaments_2019:\n",
    "        for team in tournament['teams']:\n",
    "            \n",
    "            number_of_players = len(team['members'])\n",
    "            \n",
    "            for i in range(len(team['mask'])):\n",
    "                \n",
    "                y_ans = int(team['mask'][i])\n",
    "                \n",
    "                if y_ans == 1:\n",
    "                    p = preds[num_r : num_r + number_of_players, 1]\n",
    "                    p = p / (1 - (1 - p).prod())\n",
    "                    p = np.clip(p, 0, 1)\n",
    "                    weight[num_r : num_r + number_of_players] = p\n",
    "                    weight[rows + num_r : rows + num_r + number_of_players] = 1 - p\n",
    "                else:\n",
    "                    weight[num_r : num_r + number_of_players] = 0\n",
    "                    weight[rows + num_r : rows + num_r + number_of_players] = 1\n",
    "                num_r += number_of_players\n",
    "    return weight"
   ]
  },
  {
   "cell_type": "code",
   "execution_count": 23,
   "metadata": {},
   "outputs": [
    {
     "name": "stdout",
     "output_type": "stream",
     "text": [
      "Шаг: 1\n",
      "Корреляция Спирмена: 0.7442953856905542. Корреляция Кендалла: 0.5889649894109085\n",
      "Шаг: 2\n",
      "Корреляция Спирмена: 0.7472768669654385. Корреляция Кендалла: 0.5910352660120286\n",
      "Шаг: 3\n",
      "Корреляция Спирмена: 0.7480144068621463. Корреляция Кендалла: 0.5921609617121851\n",
      "Шаг: 4\n",
      "Корреляция Спирмена: 0.7492411236104706. Корреляция Кендалла: 0.5940467772230779\n",
      "Шаг: 5\n",
      "Корреляция Спирмена: 0.7500745327216422. Корреляция Кендалла: 0.5949304024355874\n",
      "Шаг: 6\n",
      "Корреляция Спирмена: 0.7518368596365139. Корреляция Кендалла: 0.5961962487459135\n",
      "Шаг: 7\n",
      "Корреляция Спирмена: 0.7535467869205698. Корреляция Кендалла: 0.5978932518680694\n",
      "Шаг: 8\n",
      "Корреляция Спирмена: 0.7538294324943359. Корреляция Кендалла: 0.5981700621805829\n",
      "Шаг: 9\n",
      "Корреляция Спирмена: 0.7547612095420067. Корреляция Кендалла: 0.598941610846177\n",
      "Шаг: 10\n",
      "Корреляция Спирмена: 0.7560377483295884. Корреляция Кендалла: 0.600356447612094\n",
      "Шаг: 11\n",
      "Корреляция Спирмена: 0.7576140091220213. Корреляция Кендалла: 0.6020145425995902\n",
      "Шаг: 12\n",
      "Корреляция Спирмена: 0.7581966313645468. Корреляция Кендалла: 0.6027589940147186\n",
      "Шаг: 13\n",
      "Корреляция Спирмена: 0.758222699277294. Корреляция Кендалла: 0.6026391417474156\n",
      "Шаг: 14\n",
      "Корреляция Спирмена: 0.7578153281177064. Корреляция Кендалла: 0.6023491437921236\n",
      "Шаг: 15\n",
      "Корреляция Спирмена: 0.758106265694718. Корреляция Кендалла: 0.6027937298189726\n"
     ]
    }
   ],
   "source": [
    "top_spearman = 0\n",
    "NUM_STEPS = 15\n",
    "\n",
    "for step in range(NUM_STEPS):\n",
    "    weight = weights_update(lr)\n",
    "    lr.fit(X_em, y_em, sample_weight=weight)\n",
    "    s, q = lr.coef_[0][:len(members)], lr.coef_[0][len(members):] - lr.intercept_\n",
    "    kendall, spearman = get_correlations(s, q)\n",
    "    \n",
    "    print(f'Шаг: {step + 1}')\n",
    "    print(f'Корреляция Спирмена: {spearman}. Корреляция Кендалла: {kendall}')\n",
    "    \n",
    "    if spearman > top_spearman:\n",
    "        top_spearman = spearman\n",
    "        top_s = s\n",
    "        top_q = q\n"
   ]
  },
  {
   "cell_type": "markdown",
   "metadata": {},
   "source": [
    "## Пункт 5"
   ]
  },
  {
   "cell_type": "markdown",
   "metadata": {},
   "source": [
    "А что там с вопросами? Постройте “рейтинг-лист” турниров по сложности вопросов. Соответствует ли он интуиции (например, на чемпионате мира в целом должны быть сложные вопросы, а на турнирах для школьников — простые)? Если будет интересно: постройте топ сложных и простых вопросов со ссылками на конкретные записи в базе вопросов ЧГК (это чисто техническое дело, тут никакого ML нету)."
   ]
  },
  {
   "cell_type": "code",
   "execution_count": 47,
   "metadata": {},
   "outputs": [],
   "source": [
    "tournaments_q = []\n",
    "questions_shift = 0\n",
    "for tournament in tournaments_2019:\n",
    "    id = tournament['id']\n",
    "    number_of_questions = len(tournament['teams'][0]['mask'])\n",
    "    name = tournaments[id]['name']\n",
    "    complexity = np.median(top_q[questions_shift : questions_shift + number_of_questions])\n",
    "    tournaments_q.append((name, complexity))\n",
    "    questions_shift += number_of_questions\n",
    "\n",
    "tournaments_q.sort(key=lambda x : x[1], reverse=True)\n",
    "tournaments_q = pd.DataFrame(tournaments_q)"
   ]
  },
  {
   "cell_type": "code",
   "execution_count": 50,
   "metadata": {},
   "outputs": [
    {
     "data": {
      "text/html": [
       "<div>\n",
       "<style scoped>\n",
       "    .dataframe tbody tr th:only-of-type {\n",
       "        vertical-align: middle;\n",
       "    }\n",
       "\n",
       "    .dataframe tbody tr th {\n",
       "        vertical-align: top;\n",
       "    }\n",
       "\n",
       "    .dataframe thead th {\n",
       "        text-align: right;\n",
       "    }\n",
       "</style>\n",
       "<table border=\"1\" class=\"dataframe\">\n",
       "  <thead>\n",
       "    <tr style=\"text-align: right;\">\n",
       "      <th></th>\n",
       "      <th>0</th>\n",
       "      <th>1</th>\n",
       "    </tr>\n",
       "  </thead>\n",
       "  <tbody>\n",
       "    <tr>\n",
       "      <th>0</th>\n",
       "      <td>Чемпионат Санкт-Петербурга. Первая лига</td>\n",
       "      <td>5.853125</td>\n",
       "    </tr>\n",
       "    <tr>\n",
       "      <th>1</th>\n",
       "      <td>Первенство правого полушария</td>\n",
       "      <td>4.915176</td>\n",
       "    </tr>\n",
       "    <tr>\n",
       "      <th>2</th>\n",
       "      <td>Угрюмый Ёрш</td>\n",
       "      <td>4.893449</td>\n",
       "    </tr>\n",
       "    <tr>\n",
       "      <th>3</th>\n",
       "      <td>Кубок городов</td>\n",
       "      <td>4.633591</td>\n",
       "    </tr>\n",
       "    <tr>\n",
       "      <th>4</th>\n",
       "      <td>Воображаемый музей</td>\n",
       "      <td>4.558186</td>\n",
       "    </tr>\n",
       "    <tr>\n",
       "      <th>5</th>\n",
       "      <td>Тихий Донец: омут первый</td>\n",
       "      <td>4.523546</td>\n",
       "    </tr>\n",
       "    <tr>\n",
       "      <th>6</th>\n",
       "      <td>Записки охотника</td>\n",
       "      <td>4.514446</td>\n",
       "    </tr>\n",
       "    <tr>\n",
       "      <th>7</th>\n",
       "      <td>Чемпионат Мира. Этап 2 Группа С</td>\n",
       "      <td>4.489372</td>\n",
       "    </tr>\n",
       "    <tr>\n",
       "      <th>8</th>\n",
       "      <td>Чемпионат Мира. Этап 2. Группа В</td>\n",
       "      <td>4.485200</td>\n",
       "    </tr>\n",
       "    <tr>\n",
       "      <th>9</th>\n",
       "      <td>Чемпионат Минска. Лига А. Тур четвёртый</td>\n",
       "      <td>4.477988</td>\n",
       "    </tr>\n",
       "  </tbody>\n",
       "</table>\n",
       "</div>"
      ],
      "text/plain": [
       "                                         0         1\n",
       "0  Чемпионат Санкт-Петербурга. Первая лига  5.853125\n",
       "1             Первенство правого полушария  4.915176\n",
       "2                              Угрюмый Ёрш  4.893449\n",
       "3                            Кубок городов  4.633591\n",
       "4                       Воображаемый музей  4.558186\n",
       "5                 Тихий Донец: омут первый  4.523546\n",
       "6                         Записки охотника  4.514446\n",
       "7          Чемпионат Мира. Этап 2 Группа С  4.489372\n",
       "8         Чемпионат Мира. Этап 2. Группа В  4.485200\n",
       "9  Чемпионат Минска. Лига А. Тур четвёртый  4.477988"
      ]
     },
     "execution_count": 50,
     "metadata": {},
     "output_type": "execute_result"
    }
   ],
   "source": [
    "tournaments_q.head(10)"
   ]
  },
  {
   "cell_type": "code",
   "execution_count": 51,
   "metadata": {},
   "outputs": [
    {
     "data": {
      "text/html": [
       "<div>\n",
       "<style scoped>\n",
       "    .dataframe tbody tr th:only-of-type {\n",
       "        vertical-align: middle;\n",
       "    }\n",
       "\n",
       "    .dataframe tbody tr th {\n",
       "        vertical-align: top;\n",
       "    }\n",
       "\n",
       "    .dataframe thead th {\n",
       "        text-align: right;\n",
       "    }\n",
       "</style>\n",
       "<table border=\"1\" class=\"dataframe\">\n",
       "  <thead>\n",
       "    <tr style=\"text-align: right;\">\n",
       "      <th></th>\n",
       "      <th>0</th>\n",
       "      <th>1</th>\n",
       "    </tr>\n",
       "  </thead>\n",
       "  <tbody>\n",
       "    <tr>\n",
       "      <th>594</th>\n",
       "      <td>(а)Синхрон-lite. Лига старта. Эпизод IV</td>\n",
       "      <td>1.814077</td>\n",
       "    </tr>\n",
       "    <tr>\n",
       "      <th>595</th>\n",
       "      <td>Парный асинхронный турнир ChGK is...</td>\n",
       "      <td>1.808437</td>\n",
       "    </tr>\n",
       "    <tr>\n",
       "      <th>596</th>\n",
       "      <td>(а)Синхрон-lite. Лига старта. Эпизод X</td>\n",
       "      <td>1.805834</td>\n",
       "    </tr>\n",
       "    <tr>\n",
       "      <th>597</th>\n",
       "      <td>Студенческий чемпионат Калининградской области</td>\n",
       "      <td>1.797357</td>\n",
       "    </tr>\n",
       "    <tr>\n",
       "      <th>598</th>\n",
       "      <td>Второй тематический турнир имени Джоуи Триббиани</td>\n",
       "      <td>1.785969</td>\n",
       "    </tr>\n",
       "    <tr>\n",
       "      <th>599</th>\n",
       "      <td>Лига вузов. IV тур</td>\n",
       "      <td>1.770461</td>\n",
       "    </tr>\n",
       "    <tr>\n",
       "      <th>600</th>\n",
       "      <td>(а)Синхрон-lite. Лига старта. Эпизод VII</td>\n",
       "      <td>1.750516</td>\n",
       "    </tr>\n",
       "    <tr>\n",
       "      <th>601</th>\n",
       "      <td>(а)Синхрон-lite. Лига старта. Эпизод IX</td>\n",
       "      <td>1.723582</td>\n",
       "    </tr>\n",
       "    <tr>\n",
       "      <th>602</th>\n",
       "      <td>(а)Синхрон-lite. Лига старта. Эпизод III</td>\n",
       "      <td>1.611623</td>\n",
       "    </tr>\n",
       "    <tr>\n",
       "      <th>603</th>\n",
       "      <td>(а)Синхрон-lite. Лига старта. Эпизод V</td>\n",
       "      <td>1.549806</td>\n",
       "    </tr>\n",
       "  </tbody>\n",
       "</table>\n",
       "</div>"
      ],
      "text/plain": [
       "                                                    0         1\n",
       "594           (а)Синхрон-lite. Лига старта. Эпизод IV  1.814077\n",
       "595              Парный асинхронный турнир ChGK is...  1.808437\n",
       "596            (а)Синхрон-lite. Лига старта. Эпизод X  1.805834\n",
       "597    Студенческий чемпионат Калининградской области  1.797357\n",
       "598  Второй тематический турнир имени Джоуи Триббиани  1.785969\n",
       "599                                Лига вузов. IV тур  1.770461\n",
       "600          (а)Синхрон-lite. Лига старта. Эпизод VII  1.750516\n",
       "601           (а)Синхрон-lite. Лига старта. Эпизод IX  1.723582\n",
       "602          (а)Синхрон-lite. Лига старта. Эпизод III  1.611623\n",
       "603            (а)Синхрон-lite. Лига старта. Эпизод V  1.549806"
      ]
     },
     "execution_count": 51,
     "metadata": {},
     "output_type": "execute_result"
    }
   ],
   "source": [
    "tournaments_q.tail(10)"
   ]
  },
  {
   "cell_type": "markdown",
   "metadata": {},
   "source": [
    "Серьёзные чемпионаты - наверху.\n",
    "Студуеческие - внизу. \n",
    "Так что наш рейтинг скорее всего верный. "
   ]
  }
 ],
 "metadata": {
  "kernelspec": {
   "display_name": "Python 3",
   "language": "python",
   "name": "python3"
  },
  "language_info": {
   "codemirror_mode": {
    "name": "ipython",
    "version": 3
   },
   "file_extension": ".py",
   "mimetype": "text/x-python",
   "name": "python",
   "nbconvert_exporter": "python",
   "pygments_lexer": "ipython3",
   "version": "3.8.5"
  }
 },
 "nbformat": 4,
 "nbformat_minor": 4
}
