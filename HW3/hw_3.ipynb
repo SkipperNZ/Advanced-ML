{
 "cells": [
  {
   "cell_type": "markdown",
   "id": "1c036c2e",
   "metadata": {},
   "source": [
    "# Домашнее задание 3"
   ]
  },
  {
   "cell_type": "markdown",
   "id": "dd62d7d6",
   "metadata": {},
   "source": [
    "Третье домашнее задание посвящено достаточно простой, но, надеюсь, интересной задаче, в которой потребуется творчески применить методы сэмплирования. Как и раньше, в качестве решения ожидается ссылка на jupyter-ноутбук на вашем github (или публичный, или с доступом для snikolenko); ссылку обязательно нужно прислать в виде сданного домашнего задания на портале Академии. Как всегда, любые комментарии, новые идеи и рассуждения на тему категорически приветствуются.\n",
    "\n",
    "В этом небольшом домашнем задании мы попробуем улучшить метод Шерлока Холмса. Как известно, в рассказе The Adventure of the Dancing Men великий сыщик расшифровал загадочные письмена.\n",
    "Пользовался он для этого так называемым частотным методом: смотрел, какие буквы чаще встречаются в зашифрованных текстах, и пытался подставить буквы в соответствии с частотной таблицей: E — самая частая и так далее.\n",
    "\n",
    "В этом задании мы будем разрабатывать более современный и продвинутый вариант такого частотного метода. В качестве корпусов текстов для подсчётов частот можете взять что угодно, но для удобства вот вам “Война и мир” по-русски и по-английски:"
   ]
  },
  {
   "cell_type": "code",
   "execution_count": 2,
   "id": "314626e4",
   "metadata": {},
   "outputs": [],
   "source": [
    "path_to_AnnaKarenina = \"data/AnnaKarenina.txt\"\n",
    "path_to_WarAndPeace = \"data/WarAndPeace.txt\"\n",
    "path_to_WarAndPeaceEng = \"data/WarAndPeaceEng.txt\""
   ]
  },
  {
   "cell_type": "markdown",
   "id": "9be73a16",
   "metadata": {},
   "source": [
    "## Часть 1"
   ]
  },
  {
   "cell_type": "markdown",
   "id": "6c12f732",
   "metadata": {},
   "source": [
    "1. Реализуйте базовый частотный метод по Шерлоку Холмсу:\n",
    "    * подсчитайте частоты букв по корпусам (пунктуацию и капитализацию можно просто опустить, а вот пробелы лучше оставить);\n",
    "    * возьмите какие-нибудь тестовые тексты (нужно взять по меньшей мере 2-3 предложения, иначе вряд ли сработает), зашифруйте их посредством случайной перестановки символов;\n",
    "    * расшифруйте их таким частотным методом.\n"
   ]
  },
  {
   "cell_type": "code",
   "execution_count": 49,
   "id": "6430daa4",
   "metadata": {},
   "outputs": [],
   "source": [
    "import os\n",
    "import re\n",
    "import random\n",
    "import string\n",
    "import numpy as np\n",
    "from collections import Counter, defaultdict\n",
    "from copy import copy\n",
    "from tqdm import tqdm\n",
    "import pandas as pd\n",
    "\n",
    "import matplotlib.pyplot as plt\n",
    "import seaborn as sns\n"
   ]
  },
  {
   "cell_type": "code",
   "execution_count": 40,
   "id": "720d159a",
   "metadata": {},
   "outputs": [],
   "source": [
    "#support function\n",
    "\n",
    "def read_data(path):\n",
    "    with open(path, \"r\", encoding=\"utf8\") as file:\n",
    "        data = file.read().replace('\\n', ' ')\n",
    "        data = re.sub('\\W+',' ', data).lower()\n",
    "    return data\n",
    "\n",
    "def show_first_elem(d, i):\n",
    "    cnt = 0\n",
    "    for k, v in d.items():\n",
    "        cnt+=1\n",
    "        print(f'\\\"{k}\\\" :  {v}')\n",
    "        if cnt == i:\n",
    "            break"
   ]
  },
  {
   "cell_type": "code",
   "execution_count": 16,
   "id": "0a289bed",
   "metadata": {},
   "outputs": [],
   "source": [
    "AnnaKarenina = read_data(path_to_AnnaKarenina)\n",
    "WarAndPeace = read_data(path_to_WarAndPeace)\n",
    "WarAndPeaceEng = read_data(path_to_WarAndPeaceEng)"
   ]
  },
  {
   "cell_type": "code",
   "execution_count": 14,
   "id": "8d10531b",
   "metadata": {},
   "outputs": [
    {
     "data": {
      "text/plain": [
       "'Annotation   «Анна Каренина», один из самых знаменитых романов Льва Толстого, начинается ставшей афоризмом фразой: «Все счастливые семьи похожи друг н'"
      ]
     },
     "execution_count": 14,
     "metadata": {},
     "output_type": "execute_result"
    }
   ],
   "source": [
    "AnnaKarenina[:150]"
   ]
  },
  {
   "cell_type": "code",
   "execution_count": 17,
   "id": "4686eae0",
   "metadata": {
    "scrolled": true
   },
   "outputs": [
    {
     "data": {
      "text/plain": [
       "'annotation анна каренина один из самых знаменитых романов льва толстого начинается ставшей афоризмом фразой все счастливые семьи похожи друг на друга '"
      ]
     },
     "execution_count": 17,
     "metadata": {},
     "output_type": "execute_result"
    }
   ],
   "source": [
    "AnnaKarenina[:150]"
   ]
  },
  {
   "cell_type": "code",
   "execution_count": 77,
   "id": "b15e0580",
   "metadata": {},
   "outputs": [],
   "source": [
    "codes = np.random.choice(np.arange(10000), size=15, replace=False)\n",
    "chars_in_text = list(set(AnnaKarenina))\n",
    "symbols = list(map(chr, codes))"
   ]
  },
  {
   "cell_type": "code",
   "execution_count": 78,
   "id": "e488c8cf",
   "metadata": {},
   "outputs": [
    {
     "data": {
      "text/plain": [
       "['ᶷ',\n",
       " '൫',\n",
       " 'Ჽ',\n",
       " 'Შ',\n",
       " 'ᅡ',\n",
       " 'Ꭲ',\n",
       " 'ߎ',\n",
       " 'ڣ',\n",
       " 'ᛁ',\n",
       " 'ᮊ',\n",
       " 'Ⴋ',\n",
       " 'ᮦ',\n",
       " '\\u1ac4',\n",
       " 'ᵷ',\n",
       " 'ᑃ']"
      ]
     },
     "execution_count": 78,
     "metadata": {},
     "output_type": "execute_result"
    }
   ],
   "source": [
    "symbols"
   ]
  },
  {
   "cell_type": "code",
   "execution_count": 75,
   "id": "7b3d202d",
   "metadata": {},
   "outputs": [
    {
     "data": {
      "text/plain": [
       "array([2228, 8815, 1831, 5721,  738, 6729, 8373, 8596, 2678, 5842, 4150,\n",
       "       1756, 4590, 3350, 7502])"
      ]
     },
     "execution_count": 75,
     "metadata": {},
     "output_type": "execute_result"
    }
   ],
   "source": [
    "codes"
   ]
  },
  {
   "cell_type": "code",
   "execution_count": null,
   "id": "edbcc606",
   "metadata": {},
   "outputs": [],
   "source": [
    "def text_encoder(text):\n",
    "    chars_in_text = list(set(text))\n",
    "    cipher = string.printable\n",
    "    random.shuffle(cipher)\n",
    "    \n",
    "    pass"
   ]
  },
  {
   "cell_type": "code",
   "execution_count": 71,
   "id": "f09d7c6d",
   "metadata": {},
   "outputs": [
    {
     "data": {
      "text/plain": [
       "['I',\n",
       " 'f',\n",
       " 'w',\n",
       " '6',\n",
       " ')',\n",
       " '0',\n",
       " '_',\n",
       " 'C',\n",
       " 'B',\n",
       " '5',\n",
       " '$',\n",
       " 'X',\n",
       " 'M',\n",
       " '\\\\',\n",
       " 'p',\n",
       " '-',\n",
       " 'Q',\n",
       " '{',\n",
       " ',',\n",
       " ' ',\n",
       " 'n',\n",
       " '=',\n",
       " '\\t',\n",
       " '&',\n",
       " 'Y',\n",
       " 'o',\n",
       " 'm',\n",
       " 'r',\n",
       " '8',\n",
       " 'W',\n",
       " 'L',\n",
       " 's',\n",
       " 'z',\n",
       " '|',\n",
       " 'F',\n",
       " 'R',\n",
       " '2',\n",
       " '#',\n",
       " 'i',\n",
       " '*',\n",
       " 'E',\n",
       " '<',\n",
       " 'U',\n",
       " 'J',\n",
       " 'v',\n",
       " 'g',\n",
       " 'h',\n",
       " '?',\n",
       " 'k',\n",
       " '\\x0b',\n",
       " '4',\n",
       " 'K',\n",
       " 'O',\n",
       " 'P',\n",
       " \"'\",\n",
       " '%',\n",
       " '\\r',\n",
       " 'S',\n",
       " 'd',\n",
       " 'e',\n",
       " '/',\n",
       " ':',\n",
       " '`',\n",
       " '\"',\n",
       " 'A',\n",
       " 'b',\n",
       " 't',\n",
       " '\\n',\n",
       " '9',\n",
       " '.',\n",
       " ';',\n",
       " 'H',\n",
       " ']',\n",
       " 'G',\n",
       " 'j',\n",
       " '~',\n",
       " 'N',\n",
       " '>',\n",
       " '3',\n",
       " 'q',\n",
       " 'D',\n",
       " '!',\n",
       " 'l',\n",
       " 'a',\n",
       " '\\x0c',\n",
       " '^',\n",
       " '+',\n",
       " '}',\n",
       " 'u',\n",
       " '[',\n",
       " '1',\n",
       " 'x',\n",
       " '(',\n",
       " '@',\n",
       " 'y',\n",
       " 'T',\n",
       " 'c',\n",
       " 'V',\n",
       " 'Z',\n",
       " '7']"
      ]
     },
     "execution_count": 71,
     "metadata": {},
     "output_type": "execute_result"
    }
   ],
   "source": [
    "a = list(set(string.printable))\n",
    "random.shuffle(a)\n",
    "a"
   ]
  },
  {
   "cell_type": "code",
   "execution_count": null,
   "id": "3d61e94d",
   "metadata": {},
   "outputs": [],
   "source": []
  },
  {
   "cell_type": "code",
   "execution_count": null,
   "id": "afc43d75",
   "metadata": {},
   "outputs": [],
   "source": []
  },
  {
   "cell_type": "code",
   "execution_count": null,
   "id": "9626e3e7",
   "metadata": {},
   "outputs": [],
   "source": []
  },
  {
   "cell_type": "code",
   "execution_count": null,
   "id": "e8664122",
   "metadata": {},
   "outputs": [],
   "source": []
  },
  {
   "cell_type": "code",
   "execution_count": null,
   "id": "b1be45d4",
   "metadata": {},
   "outputs": [],
   "source": []
  },
  {
   "cell_type": "code",
   "execution_count": null,
   "id": "81623606",
   "metadata": {},
   "outputs": [],
   "source": []
  },
  {
   "cell_type": "code",
   "execution_count": null,
   "id": "e60aae19",
   "metadata": {},
   "outputs": [],
   "source": []
  },
  {
   "cell_type": "code",
   "execution_count": null,
   "id": "bce51436",
   "metadata": {},
   "outputs": [],
   "source": []
  },
  {
   "cell_type": "code",
   "execution_count": null,
   "id": "2f8e0eb8",
   "metadata": {},
   "outputs": [],
   "source": []
  },
  {
   "cell_type": "code",
   "execution_count": null,
   "id": "95a38b6e",
   "metadata": {},
   "outputs": [],
   "source": []
  },
  {
   "cell_type": "code",
   "execution_count": null,
   "id": "0330bfb3",
   "metadata": {},
   "outputs": [],
   "source": []
  },
  {
   "cell_type": "code",
   "execution_count": null,
   "id": "6dc03d0b",
   "metadata": {},
   "outputs": [],
   "source": []
  },
  {
   "cell_type": "code",
   "execution_count": null,
   "id": "200c986f",
   "metadata": {},
   "outputs": [],
   "source": []
  },
  {
   "cell_type": "code",
   "execution_count": null,
   "id": "998a937e",
   "metadata": {},
   "outputs": [],
   "source": []
  },
  {
   "cell_type": "code",
   "execution_count": null,
   "id": "5853b59c",
   "metadata": {},
   "outputs": [],
   "source": []
  },
  {
   "cell_type": "code",
   "execution_count": null,
   "id": "512c9f6a",
   "metadata": {},
   "outputs": [],
   "source": []
  },
  {
   "cell_type": "code",
   "execution_count": null,
   "id": "b5c50570",
   "metadata": {},
   "outputs": [],
   "source": []
  },
  {
   "cell_type": "code",
   "execution_count": null,
   "id": "f4d60533",
   "metadata": {},
   "outputs": [],
   "source": []
  },
  {
   "cell_type": "code",
   "execution_count": null,
   "id": "2b284f66",
   "metadata": {},
   "outputs": [],
   "source": []
  },
  {
   "cell_type": "code",
   "execution_count": null,
   "id": "26537760",
   "metadata": {},
   "outputs": [],
   "source": []
  }
 ],
 "metadata": {
  "kernelspec": {
   "display_name": "Python 3 (ipykernel)",
   "language": "python",
   "name": "python3"
  },
  "language_info": {
   "codemirror_mode": {
    "name": "ipython",
    "version": 3
   },
   "file_extension": ".py",
   "mimetype": "text/x-python",
   "name": "python",
   "nbconvert_exporter": "python",
   "pygments_lexer": "ipython3",
   "version": "3.8.13"
  }
 },
 "nbformat": 4,
 "nbformat_minor": 5
}
