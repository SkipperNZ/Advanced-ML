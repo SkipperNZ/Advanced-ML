{
 "cells": [
  {
   "cell_type": "markdown",
   "id": "a62f5bb2",
   "metadata": {},
   "source": [
    "# Домашнее задание 3"
   ]
  },
  {
   "cell_type": "markdown",
   "id": "cc8c1884",
   "metadata": {},
   "source": [
    "Третье домашнее задание посвящено достаточно простой, но, надеюсь, интересной задаче, в которой потребуется творчески применить методы сэмплирования. Как и раньше, в качестве решения ожидается ссылка на jupyter-ноутбук на вашем github (или публичный, или с доступом для snikolenko); ссылку обязательно нужно прислать в виде сданного домашнего задания на портале Академии. Как всегда, любые комментарии, новые идеи и рассуждения на тему категорически приветствуются.\n",
    "\n",
    "В этом небольшом домашнем задании мы попробуем улучшить метод Шерлока Холмса. Как известно, в рассказе The Adventure of the Dancing Men великий сыщик расшифровал загадочные письмена.\n",
    "Пользовался он для этого так называемым частотным методом: смотрел, какие буквы чаще встречаются в зашифрованных текстах, и пытался подставить буквы в соответствии с частотной таблицей: E — самая частая и так далее.\n",
    "\n",
    "В этом задании мы будем разрабатывать более современный и продвинутый вариант такого частотного метода. В качестве корпусов текстов для подсчётов частот можете взять что угодно, но для удобства вот вам “Война и мир” по-русски и по-английски:"
   ]
  },
  {
   "cell_type": "code",
   "execution_count": 2,
   "id": "a3380a18",
   "metadata": {},
   "outputs": [],
   "source": [
    "path_to_AnnaKarenina = \"data/AnnaKarenina.txt\"\n",
    "path_to_WarAndPeace = \"data/WarAndPeace.txt\"\n",
    "path_to_WarAndPeaceEng = \"data/WarAndPeaceEng.txt\""
   ]
  },
  {
   "cell_type": "markdown",
   "id": "dca901d0",
   "metadata": {},
   "source": [
    "## Часть 1"
   ]
  },
  {
   "cell_type": "markdown",
   "id": "97c7b028",
   "metadata": {},
   "source": [
    "1. Реализуйте базовый частотный метод по Шерлоку Холмсу:\n",
    "    * подсчитайте частоты букв по корпусам (пунктуацию и капитализацию можно просто опустить, а вот пробелы лучше оставить);\n",
    "    * возьмите какие-нибудь тестовые тексты (нужно взять по меньшей мере 2-3 предложения, иначе вряд ли сработает), зашифруйте их посредством случайной перестановки символов;\n",
    "    * расшифруйте их таким частотным методом.\n"
   ]
  },
  {
   "cell_type": "code",
   "execution_count": 49,
   "id": "4ee7cae1",
   "metadata": {},
   "outputs": [],
   "source": [
    "import os\n",
    "import re\n",
    "import random\n",
    "import string\n",
    "import numpy as np\n",
    "from collections import Counter, defaultdict\n",
    "from copy import copy\n",
    "from tqdm import tqdm\n",
    "import pandas as pd\n",
    "\n",
    "import matplotlib.pyplot as plt\n",
    "import seaborn as sns\n"
   ]
  },
  {
   "cell_type": "code",
   "execution_count": 40,
   "id": "c053358f",
   "metadata": {},
   "outputs": [],
   "source": [
    "#support function\n",
    "\n",
    "def read_data(path):\n",
    "    with open(path, \"r\", encoding=\"utf8\") as file:\n",
    "        data = file.read().replace('\\n', ' ')\n",
    "        data = re.sub('\\W+',' ', data).lower()\n",
    "    return data\n",
    "\n",
    "def show_first_elem(d, i):\n",
    "    cnt = 0\n",
    "    for k, v in d.items():\n",
    "        cnt+=1\n",
    "        print(f'\\\"{k}\\\" :  {v}')\n",
    "        if cnt == i:\n",
    "            break"
   ]
  },
  {
   "cell_type": "code",
   "execution_count": 16,
   "id": "d25d9391",
   "metadata": {},
   "outputs": [],
   "source": [
    "AnnaKarenina = read_data(path_to_AnnaKarenina)\n",
    "WarAndPeace = read_data(path_to_WarAndPeace)\n",
    "WarAndPeaceEng = read_data(path_to_WarAndPeaceEng)"
   ]
  },
  {
   "cell_type": "code",
   "execution_count": 14,
   "id": "1d5714b2",
   "metadata": {},
   "outputs": [
    {
     "data": {
      "text/plain": [
       "'Annotation   «Анна Каренина», один из самых знаменитых романов Льва Толстого, начинается ставшей афоризмом фразой: «Все счастливые семьи похожи друг н'"
      ]
     },
     "execution_count": 14,
     "metadata": {},
     "output_type": "execute_result"
    }
   ],
   "source": [
    "AnnaKarenina[:150]"
   ]
  },
  {
   "cell_type": "code",
   "execution_count": 17,
   "id": "dc1ba867",
   "metadata": {
    "scrolled": true
   },
   "outputs": [
    {
     "data": {
      "text/plain": [
       "'annotation анна каренина один из самых знаменитых романов льва толстого начинается ставшей афоризмом фразой все счастливые семьи похожи друг на друга '"
      ]
     },
     "execution_count": 17,
     "metadata": {},
     "output_type": "execute_result"
    }
   ],
   "source": [
    "AnnaKarenina[:150]"
   ]
  },
  {
   "cell_type": "code",
   "execution_count": 77,
   "id": "1a5c4d36",
   "metadata": {},
   "outputs": [],
   "source": [
    "codes = np.random.choice(np.arange(10000), size=15, replace=False)\n",
    "chars_in_text = list(set(AnnaKarenina))\n",
    "symbols = list(map(chr, codes))"
   ]
  },
  {
   "cell_type": "code",
   "execution_count": 78,
   "id": "cccc2a66",
   "metadata": {},
   "outputs": [
    {
     "data": {
      "text/plain": [
       "['ᶷ',\n",
       " '൫',\n",
       " 'Ჽ',\n",
       " 'Შ',\n",
       " 'ᅡ',\n",
       " 'Ꭲ',\n",
       " 'ߎ',\n",
       " 'ڣ',\n",
       " 'ᛁ',\n",
       " 'ᮊ',\n",
       " 'Ⴋ',\n",
       " 'ᮦ',\n",
       " '\\u1ac4',\n",
       " 'ᵷ',\n",
       " 'ᑃ']"
      ]
     },
     "execution_count": 78,
     "metadata": {},
     "output_type": "execute_result"
    }
   ],
   "source": [
    "symbols"
   ]
  },
  {
   "cell_type": "code",
   "execution_count": 75,
   "id": "af38c7df",
   "metadata": {},
   "outputs": [
    {
     "data": {
      "text/plain": [
       "array([2228, 8815, 1831, 5721,  738, 6729, 8373, 8596, 2678, 5842, 4150,\n",
       "       1756, 4590, 3350, 7502])"
      ]
     },
     "execution_count": 75,
     "metadata": {},
     "output_type": "execute_result"
    }
   ],
   "source": [
    "codes"
   ]
  },
  {
   "cell_type": "code",
   "execution_count": null,
   "id": "3cc9358f",
   "metadata": {},
   "outputs": [],
   "source": [
    "def text_encoder(text):\n",
    "    chars_in_text = list(set(text))\n",
    "    cipher = string.printable\n",
    "    random.shuffle(cipher)\n",
    "    \n",
    "    pass"
   ]
  },
  {
   "cell_type": "code",
   "execution_count": 71,
   "id": "aa058e18",
   "metadata": {},
   "outputs": [
    {
     "data": {
      "text/plain": [
       "['I',\n",
       " 'f',\n",
       " 'w',\n",
       " '6',\n",
       " ')',\n",
       " '0',\n",
       " '_',\n",
       " 'C',\n",
       " 'B',\n",
       " '5',\n",
       " '$',\n",
       " 'X',\n",
       " 'M',\n",
       " '\\\\',\n",
       " 'p',\n",
       " '-',\n",
       " 'Q',\n",
       " '{',\n",
       " ',',\n",
       " ' ',\n",
       " 'n',\n",
       " '=',\n",
       " '\\t',\n",
       " '&',\n",
       " 'Y',\n",
       " 'o',\n",
       " 'm',\n",
       " 'r',\n",
       " '8',\n",
       " 'W',\n",
       " 'L',\n",
       " 's',\n",
       " 'z',\n",
       " '|',\n",
       " 'F',\n",
       " 'R',\n",
       " '2',\n",
       " '#',\n",
       " 'i',\n",
       " '*',\n",
       " 'E',\n",
       " '<',\n",
       " 'U',\n",
       " 'J',\n",
       " 'v',\n",
       " 'g',\n",
       " 'h',\n",
       " '?',\n",
       " 'k',\n",
       " '\\x0b',\n",
       " '4',\n",
       " 'K',\n",
       " 'O',\n",
       " 'P',\n",
       " \"'\",\n",
       " '%',\n",
       " '\\r',\n",
       " 'S',\n",
       " 'd',\n",
       " 'e',\n",
       " '/',\n",
       " ':',\n",
       " '`',\n",
       " '\"',\n",
       " 'A',\n",
       " 'b',\n",
       " 't',\n",
       " '\\n',\n",
       " '9',\n",
       " '.',\n",
       " ';',\n",
       " 'H',\n",
       " ']',\n",
       " 'G',\n",
       " 'j',\n",
       " '~',\n",
       " 'N',\n",
       " '>',\n",
       " '3',\n",
       " 'q',\n",
       " 'D',\n",
       " '!',\n",
       " 'l',\n",
       " 'a',\n",
       " '\\x0c',\n",
       " '^',\n",
       " '+',\n",
       " '}',\n",
       " 'u',\n",
       " '[',\n",
       " '1',\n",
       " 'x',\n",
       " '(',\n",
       " '@',\n",
       " 'y',\n",
       " 'T',\n",
       " 'c',\n",
       " 'V',\n",
       " 'Z',\n",
       " '7']"
      ]
     },
     "execution_count": 71,
     "metadata": {},
     "output_type": "execute_result"
    }
   ],
   "source": [
    "a = list(set(string.printable))\n",
    "random.shuffle(a)\n",
    "a"
   ]
  },
  {
   "cell_type": "code",
   "execution_count": 67,
   "id": "e8f2e3f0",
   "metadata": {},
   "outputs": [
    {
     "ename": "IndentationError",
     "evalue": "expected an indented block (1520554673.py, line 17)",
     "output_type": "error",
     "traceback": [
      "\u001b[1;36m  Input \u001b[1;32mIn [67]\u001b[1;36m\u001b[0m\n\u001b[1;33m    def encode(self):\u001b[0m\n\u001b[1;37m    ^\u001b[0m\n\u001b[1;31mIndentationError\u001b[0m\u001b[1;31m:\u001b[0m expected an indented block\n"
     ]
    }
   ],
   "source": [
    "class HolmesCipher:\n",
    "    def __init__(self, data):\n",
    "        self.data = data\n",
    "    \n",
    "    def frequency_mapping(self):\n",
    "        char_cnt = Counter(self.data)\n",
    "        sorted_char_cnt = sorted(char_cnt.items(), key=lambda item: item[1], reverse=True )\n",
    "        char_cnt = {key: value/len(self.data) for key, value in sorted_char_cnt} \n",
    "        \n",
    "        return char_cnt\n",
    "    \n",
    "    def cipher_map(self):\n",
    "        \n",
    "    \n",
    "    \n",
    "    \n",
    "    def encode(self):\n",
    "        pass\n",
    "    \n",
    "    def decode(self):\n",
    "        pass\n",
    "    \n",
    "    \n",
    "    "
   ]
  },
  {
   "cell_type": "code",
   "execution_count": 47,
   "id": "9a3910cd",
   "metadata": {},
   "outputs": [
    {
     "ename": "NameError",
     "evalue": "name '_frequency_mapping' is not defined",
     "output_type": "error",
     "traceback": [
      "\u001b[1;31m---------------------------------------------------------------------------\u001b[0m",
      "\u001b[1;31mNameError\u001b[0m                                 Traceback (most recent call last)",
      "Input \u001b[1;32mIn [47]\u001b[0m, in \u001b[0;36m<cell line: 1>\u001b[1;34m()\u001b[0m\n\u001b[1;32m----> 1\u001b[0m cipher_1 \u001b[38;5;241m=\u001b[39m \u001b[43mHolmesCipher\u001b[49m\u001b[43m(\u001b[49m\u001b[43mAnnaKarenina\u001b[49m\u001b[43m)\u001b[49m\n\u001b[0;32m      3\u001b[0m anna_k_freq_dict \u001b[38;5;241m=\u001b[39m cipher_1\u001b[38;5;241m.\u001b[39mfrequency_map\n\u001b[0;32m      5\u001b[0m show_first_elem(anna_k_freq_dict, \u001b[38;5;241m8\u001b[39m)\n",
      "Input \u001b[1;32mIn [46]\u001b[0m, in \u001b[0;36mHolmesCipher.__init__\u001b[1;34m(self, data)\u001b[0m\n\u001b[0;32m      2\u001b[0m \u001b[38;5;28;01mdef\u001b[39;00m \u001b[38;5;21m__init__\u001b[39m(\u001b[38;5;28mself\u001b[39m, data):\n\u001b[0;32m      3\u001b[0m     \u001b[38;5;28mself\u001b[39m\u001b[38;5;241m.\u001b[39mdata \u001b[38;5;241m=\u001b[39m data\n\u001b[1;32m----> 4\u001b[0m     \u001b[38;5;28mself\u001b[39m\u001b[38;5;241m.\u001b[39mfrequency_map  \u001b[38;5;241m=\u001b[39m \u001b[43m_frequency_mapping\u001b[49m(\u001b[38;5;28mself\u001b[39m\u001b[38;5;241m.\u001b[39mdata)\n",
      "\u001b[1;31mNameError\u001b[0m: name '_frequency_mapping' is not defined"
     ]
    }
   ],
   "source": [
    "cipher_1 = HolmesCipher(AnnaKarenina)\n",
    "\n",
    "anna_k_freq_dict = cipher_1.frequency_map\n",
    "\n",
    "show_first_elem(anna_k_freq_dict, 8)"
   ]
  },
  {
   "cell_type": "code",
   "execution_count": null,
   "id": "163968dc",
   "metadata": {},
   "outputs": [],
   "source": [
    "def get_unigramm_mapping(encoded, train):\n",
    "    char_cnt = Counter(train)\n",
    "    encoded_cnt = Counter(encoded).most_common()\n",
    "    reverse_mapping = {}\n",
    "    for i, (char, _) in enumerate(char_cnt.most_common(len(encoded_cnt))):\n",
    "        reverse_mapping[encoded_cnt[i][0]] = char\n",
    "    return reverse_mapping\n",
    "\n",
    "\n",
    "    def get_sorted_frequency_dict(self):\n",
    "        \"\"\"\n",
    "        input: text\n",
    "        output: sorted dict freq symbol\n",
    "        \"\"\"\n",
    "        counts = dict(Counter(self.text)) \n",
    "        counts = {k: v/len(self.text) for k, v in sorted(counts.items(), key=lambda item: item[1], reverse=True )}        \n",
    "        return counts\n",
    "\n",
    "    def get_encode_dict(self):\n",
    "        freq_dict = self.get_sorted_frequency_dict()\n",
    "        shuffled_letters = list(freq_dict.keys())\n",
    "        random.shuffle(shuffled_letters)\n",
    "        return {list(freq_dict.keys())[i]:shuffled_letters[i] for i in range(len(shuffled_letters))}\n",
    "\n",
    "    def get_decode_dict(self, freq_letters_list):\n",
    "        freq_dict = self.get_sorted_frequency_dict()\n",
    "        decode_dict = {list(freq_dict.keys())[i]:freq_letters_list[i] for i in range(min(len(freq_dict),len(freq_letters_list)))}\n",
    "        return decode_dict\n",
    "\n",
    "    def encode(self):\n",
    "        encode_dict = self.get_encode_dict()\n",
    "        return ''.join([encode_dict[i] for i in self.text])\n",
    "\n",
    "    def decode(self, freq_dict):\n",
    "        decode_dict = self.get_decode_dict(freq_dict)\n",
    "        return ''.join([decode_dict[i] if i in decode_dict.keys() else '?' for i in self.text])\n"
   ]
  },
  {
   "cell_type": "code",
   "execution_count": null,
   "id": "91b3b5bb",
   "metadata": {},
   "outputs": [],
   "source": []
  },
  {
   "cell_type": "code",
   "execution_count": null,
   "id": "d8e7ed7e",
   "metadata": {},
   "outputs": [],
   "source": []
  },
  {
   "cell_type": "code",
   "execution_count": null,
   "id": "188e1212",
   "metadata": {},
   "outputs": [],
   "source": []
  },
  {
   "cell_type": "code",
   "execution_count": null,
   "id": "d990ac91",
   "metadata": {},
   "outputs": [],
   "source": []
  },
  {
   "cell_type": "code",
   "execution_count": null,
   "id": "38e0250c",
   "metadata": {},
   "outputs": [],
   "source": []
  },
  {
   "cell_type": "code",
   "execution_count": null,
   "id": "d79f9295",
   "metadata": {},
   "outputs": [],
   "source": []
  },
  {
   "cell_type": "code",
   "execution_count": null,
   "id": "cf39b283",
   "metadata": {},
   "outputs": [],
   "source": []
  },
  {
   "cell_type": "code",
   "execution_count": null,
   "id": "71475ffb",
   "metadata": {},
   "outputs": [],
   "source": []
  },
  {
   "cell_type": "code",
   "execution_count": null,
   "id": "0250b861",
   "metadata": {},
   "outputs": [],
   "source": []
  },
  {
   "cell_type": "code",
   "execution_count": null,
   "id": "a72eda0d",
   "metadata": {},
   "outputs": [],
   "source": []
  },
  {
   "cell_type": "code",
   "execution_count": null,
   "id": "cb807ae4",
   "metadata": {},
   "outputs": [],
   "source": []
  },
  {
   "cell_type": "code",
   "execution_count": null,
   "id": "61e85b71",
   "metadata": {},
   "outputs": [],
   "source": []
  },
  {
   "cell_type": "code",
   "execution_count": null,
   "id": "9e480a14",
   "metadata": {},
   "outputs": [],
   "source": []
  },
  {
   "cell_type": "code",
   "execution_count": null,
   "id": "038d0457",
   "metadata": {},
   "outputs": [],
   "source": []
  },
  {
   "cell_type": "code",
   "execution_count": null,
   "id": "bb178d7a",
   "metadata": {},
   "outputs": [],
   "source": []
  },
  {
   "cell_type": "code",
   "execution_count": null,
   "id": "125ddc74",
   "metadata": {},
   "outputs": [],
   "source": []
  },
  {
   "cell_type": "code",
   "execution_count": null,
   "id": "fcab4958",
   "metadata": {},
   "outputs": [],
   "source": []
  }
 ],
 "metadata": {
  "kernelspec": {
   "display_name": "Python 3 (ipykernel)",
   "language": "python",
   "name": "python3"
  },
  "language_info": {
   "codemirror_mode": {
    "name": "ipython",
    "version": 3
   },
   "file_extension": ".py",
   "mimetype": "text/x-python",
   "name": "python",
   "nbconvert_exporter": "python",
   "pygments_lexer": "ipython3",
   "version": "3.8.13"
  }
 },
 "nbformat": 4,
 "nbformat_minor": 5
}
